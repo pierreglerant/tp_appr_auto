{
 "cells": [
  {
   "cell_type": "markdown",
   "metadata": {},
   "source": [
    "# Target creation notebook  \n",
    "## Imports"
   ]
  },
  {
   "cell_type": "code",
   "execution_count": 1,
   "metadata": {},
   "outputs": [],
   "source": [
    "import pandas as pd\n",
    "import numpy as np\n",
    "from sklearn.impute import KNNImputer\n",
    "from sklearn.decomposition import PCA\n",
    "import matplotlib.pyplot as plt\n",
    "\n",
    "from sklearn.model_selection import train_test_split\n",
    "from sklearn.ensemble import RandomForestClassifier\n",
    "from sklearn.linear_model import LogisticRegression\n",
    "from sklearn.svm import SVC\n",
    "from sklearn.metrics import classification_report, accuracy_score\n",
    "\n",
    "import warnings\n",
    "warnings.filterwarnings(\"ignore\")\n",
    "\n",
    "df = pd.read_csv('../../data/preprocessed_data.csv')"
   ]
  },
  {
   "cell_type": "markdown",
   "metadata": {},
   "source": [
    "## Analysis on interesting features for the target creation \n",
    "### Columns selection \n",
    "We can observe that those columns correspond to tests that can be representative of the welding quality\n"
   ]
  },
  {
   "cell_type": "code",
   "execution_count": 30,
   "metadata": {},
   "outputs": [],
   "source": [
    "col_test = ['Yield strength (MPa)','Ultimate tensile strength (MPa)', 'Elongation (%)',\n",
    "            'Reduction of Area (%)','Charpy impact toughness (J)']"
   ]
  },
  {
   "cell_type": "markdown",
   "metadata": {},
   "source": [
    "We have various steel, yet the charpy temperature seems to have huge differences depending of the type."
   ]
  },
  {
   "cell_type": "code",
   "execution_count": 31,
   "metadata": {},
   "outputs": [],
   "source": [
    "df = df.drop('Charpy temperature (deg C)',axis=1)"
   ]
  },
  {
   "cell_type": "code",
   "execution_count": 32,
   "metadata": {},
   "outputs": [],
   "source": [
    "#To have the features list easily after\n",
    "features = [c for c in df.columns if c not in col_test]"
   ]
  },
  {
   "cell_type": "markdown",
   "metadata": {},
   "source": [
    "### Information printing  \n",
    "This part will be usefull to decide how the target will be created with the columns referring to the welding test quality (Can be called \"test columns\")  \n",
    "\n",
    "We start with a Boolean columns creation : see for each row if the test is done"
   ]
  },
  {
   "cell_type": "code",
   "execution_count": 33,
   "metadata": {},
   "outputs": [],
   "source": [
    "#Init\n",
    "dfd = df.copy()\n",
    "Lt=['nb']\n",
    "dfd['nb'] = 0\n",
    "\n",
    "#For each test columns we create one with the suffix \"_test\"\n",
    "#to see if the test is done or not (blank cells or not)\n",
    "for c in col_test:\n",
    "    n=c+'_test'\n",
    "    dfd[n] = np.where(dfd[c].isna(),0,1)\n",
    "    Lt.append(n)\n",
    "    \n",
    "    #We create as well a column that will tell how many test\n",
    "    #each observation has \n",
    "    dfd['nb'] = dfd['nb'] + dfd[n]"
   ]
  },
  {
   "cell_type": "code",
   "execution_count": 34,
   "metadata": {},
   "outputs": [
    {
     "name": "stdout",
     "output_type": "stream",
     "text": [
      "Yield strength (MPa)_test \n",
      "Test not done 52 %\n",
      "Test done 47 %\n",
      "\n",
      "Ultimate tensile strength (MPa)_test \n",
      "Test not done 50 %\n",
      "Test done 49 %\n",
      "\n",
      "Elongation (%)_test \n",
      "Test not done 53 %\n",
      "Test done 46 %\n",
      "\n",
      "Reduction of Area (%)_test \n",
      "Test not done 52 %\n",
      "Test done 47 %\n",
      "\n",
      "Charpy impact toughness (J)_test \n",
      "Test not done 50 %\n",
      "Test done 49 %\n",
      "\n"
     ]
    }
   ],
   "source": [
    "# Display of test completion rate\n",
    "for k in Lt[1:]:\n",
    "    df_inter = dfd[k].value_counts().reset_index()\n",
    "    df_inter['count'] = (df_inter['count']*100)/df_inter['count'].sum()\n",
    "    print(k,'\\nTest not done',int(df_inter['count'].to_list()[0]), '%\\nTest done',int(df_inter['count'].to_list()[1]),'%\\n')"
   ]
  },
  {
   "cell_type": "markdown",
   "metadata": {},
   "source": [
    "We realize that each test was done on only one half of the observations."
   ]
  },
  {
   "cell_type": "code",
   "execution_count": 35,
   "metadata": {},
   "outputs": [
    {
     "data": {
      "text/plain": [
       "nb\n",
       "1    650\n",
       "4    510\n",
       "5    134\n",
       "0     82\n",
       "3     52\n",
       "2     35\n",
       "Name: count, dtype: int64"
      ]
     },
     "execution_count": 35,
     "metadata": {},
     "output_type": "execute_result"
    }
   ],
   "source": [
    "#Display the number of tests performed on each observation\n",
    "dfd['nb'].value_counts()"
   ]
  },
  {
   "cell_type": "markdown",
   "metadata": {},
   "source": [
    "According to the table above, the majority of observations have exactly one test performed. What's more, we end up with just 82 pieces with no test at all.  \n",
    "\n",
    "Since the data is normalized, we can impute missing values via a nearest-neighbor (KNN) algorithm.  \n",
    "However, it's important to note that we'll be generating almost as many values as we start with. This is bound to be “dangerous” for the quality of the results. We'll keep this in mind in order to take into account a specific selection of values for target creation and thus limit bias and overfitting (due to lack of value diversity). This generation will therefore only be used on a limited population (the 82 observations without tests).  \n",
    "\n",
    "## Preparation of the columns that are use to create the target \n",
    "### KNN Algorithm"
   ]
  },
  {
   "cell_type": "code",
   "execution_count": 36,
   "metadata": {},
   "outputs": [],
   "source": [
    "#We are going to apply the knn on the float columns only\n",
    "quanti = df.select_dtypes(include=['Float64']).columns\n",
    "\n",
    "#Df were the knn will be performed\n",
    "dfknn = df[quanti]  #(quanti include the test columns)\n",
    "\n",
    "#KNN\n",
    "imputer = KNNImputer(n_neighbors=5)\n",
    "dfknn = imputer.fit_transform(dfknn)\n",
    "\n",
    "#Formatting the resulting dataframe\n",
    "dfknn = pd.DataFrame(dfknn)\n",
    "dfknn.columns = quanti\n",
    "dfknn = dfknn[col_test] #We only wants the filled test columns at the end"
   ]
  },
  {
   "cell_type": "markdown",
   "metadata": {},
   "source": [
    "### Init of the final df that will contains the target  \n",
    "We need to know if a test has been performed, his real value/generated value (mixed in the same test column) and the number of test realised for an observation"
   ]
  },
  {
   "cell_type": "code",
   "execution_count": 37,
   "metadata": {},
   "outputs": [],
   "source": [
    "dfcible = dfd[Lt].reset_index().merge(dfknn.reset_index(),on='index',how='left')"
   ]
  },
  {
   "cell_type": "code",
   "execution_count": 38,
   "metadata": {},
   "outputs": [
    {
     "data": {
      "text/html": [
       "<div>\n",
       "<style scoped>\n",
       "    .dataframe tbody tr th:only-of-type {\n",
       "        vertical-align: middle;\n",
       "    }\n",
       "\n",
       "    .dataframe tbody tr th {\n",
       "        vertical-align: top;\n",
       "    }\n",
       "\n",
       "    .dataframe thead th {\n",
       "        text-align: right;\n",
       "    }\n",
       "</style>\n",
       "<table border=\"1\" class=\"dataframe\">\n",
       "  <thead>\n",
       "    <tr style=\"text-align: right;\">\n",
       "      <th></th>\n",
       "      <th>index</th>\n",
       "      <th>nb</th>\n",
       "      <th>Yield strength (MPa)_test</th>\n",
       "      <th>Ultimate tensile strength (MPa)_test</th>\n",
       "      <th>Elongation (%)_test</th>\n",
       "      <th>Reduction of Area (%)_test</th>\n",
       "      <th>Charpy impact toughness (J)_test</th>\n",
       "      <th>Yield strength (MPa)</th>\n",
       "      <th>Ultimate tensile strength (MPa)</th>\n",
       "      <th>Elongation (%)</th>\n",
       "      <th>Reduction of Area (%)</th>\n",
       "      <th>Charpy impact toughness (J)</th>\n",
       "    </tr>\n",
       "  </thead>\n",
       "  <tbody>\n",
       "    <tr>\n",
       "      <th>0</th>\n",
       "      <td>0</td>\n",
       "      <td>4</td>\n",
       "      <td>1</td>\n",
       "      <td>1</td>\n",
       "      <td>1</td>\n",
       "      <td>1</td>\n",
       "      <td>0</td>\n",
       "      <td>-1.278195</td>\n",
       "      <td>-1.469907</td>\n",
       "      <td>1.166875</td>\n",
       "      <td>1.002657</td>\n",
       "      <td>-0.567962</td>\n",
       "    </tr>\n",
       "    <tr>\n",
       "      <th>1</th>\n",
       "      <td>1</td>\n",
       "      <td>5</td>\n",
       "      <td>1</td>\n",
       "      <td>1</td>\n",
       "      <td>1</td>\n",
       "      <td>1</td>\n",
       "      <td>1</td>\n",
       "      <td>-1.515708</td>\n",
       "      <td>-1.582746</td>\n",
       "      <td>1.840257</td>\n",
       "      <td>1.002657</td>\n",
       "      <td>0.336142</td>\n",
       "    </tr>\n",
       "    <tr>\n",
       "      <th>2</th>\n",
       "      <td>2</td>\n",
       "      <td>4</td>\n",
       "      <td>1</td>\n",
       "      <td>1</td>\n",
       "      <td>1</td>\n",
       "      <td>1</td>\n",
       "      <td>0</td>\n",
       "      <td>-1.051477</td>\n",
       "      <td>-1.108825</td>\n",
       "      <td>1.024036</td>\n",
       "      <td>1.002657</td>\n",
       "      <td>-0.266594</td>\n",
       "    </tr>\n",
       "    <tr>\n",
       "      <th>3</th>\n",
       "      <td>3</td>\n",
       "      <td>5</td>\n",
       "      <td>1</td>\n",
       "      <td>1</td>\n",
       "      <td>1</td>\n",
       "      <td>1</td>\n",
       "      <td>1</td>\n",
       "      <td>-1.170234</td>\n",
       "      <td>-1.199096</td>\n",
       "      <td>0.983225</td>\n",
       "      <td>1.002657</td>\n",
       "      <td>0.336142</td>\n",
       "    </tr>\n",
       "    <tr>\n",
       "      <th>4</th>\n",
       "      <td>4</td>\n",
       "      <td>4</td>\n",
       "      <td>1</td>\n",
       "      <td>1</td>\n",
       "      <td>1</td>\n",
       "      <td>1</td>\n",
       "      <td>0</td>\n",
       "      <td>-0.457694</td>\n",
       "      <td>-0.510783</td>\n",
       "      <td>0.656736</td>\n",
       "      <td>0.790400</td>\n",
       "      <td>-0.266594</td>\n",
       "    </tr>\n",
       "  </tbody>\n",
       "</table>\n",
       "</div>"
      ],
      "text/plain": [
       "   index  nb  Yield strength (MPa)_test  Ultimate tensile strength (MPa)_test  \\\n",
       "0      0   4                          1                                     1   \n",
       "1      1   5                          1                                     1   \n",
       "2      2   4                          1                                     1   \n",
       "3      3   5                          1                                     1   \n",
       "4      4   4                          1                                     1   \n",
       "\n",
       "   Elongation (%)_test  Reduction of Area (%)_test  \\\n",
       "0                    1                           1   \n",
       "1                    1                           1   \n",
       "2                    1                           1   \n",
       "3                    1                           1   \n",
       "4                    1                           1   \n",
       "\n",
       "   Charpy impact toughness (J)_test  Yield strength (MPa)  \\\n",
       "0                                 0             -1.278195   \n",
       "1                                 1             -1.515708   \n",
       "2                                 0             -1.051477   \n",
       "3                                 1             -1.170234   \n",
       "4                                 0             -0.457694   \n",
       "\n",
       "   Ultimate tensile strength (MPa)  Elongation (%)  Reduction of Area (%)  \\\n",
       "0                        -1.469907        1.166875               1.002657   \n",
       "1                        -1.582746        1.840257               1.002657   \n",
       "2                        -1.108825        1.024036               1.002657   \n",
       "3                        -1.199096        0.983225               1.002657   \n",
       "4                        -0.510783        0.656736               0.790400   \n",
       "\n",
       "   Charpy impact toughness (J)  \n",
       "0                    -0.567962  \n",
       "1                     0.336142  \n",
       "2                    -0.266594  \n",
       "3                     0.336142  \n",
       "4                    -0.266594  "
      ]
     },
     "execution_count": 38,
     "metadata": {},
     "output_type": "execute_result"
    }
   ],
   "source": [
    "dfcible.head()"
   ]
  },
  {
   "cell_type": "markdown",
   "metadata": {},
   "source": [
    "==> the 'x_test' give the information if the x is generated or real  \n",
    "### Threshold creation  \n",
    "Because we have Z-normalized values, I need to get the mean and the std of my test columns"
   ]
  },
  {
   "cell_type": "code",
   "execution_count": 39,
   "metadata": {},
   "outputs": [],
   "source": [
    "data = pd.read_table(\"../data/welddb.data\",sep = \" \", header=None)\n",
    "data.replace('N', None, inplace=True)\n",
    "data.columns = [\"C concentration (weight%)\",\"Si concentration (weight%)\", \"Mn concentration (weight%)\",\"S concentration (weight%)\", \"P concentration (weight%)\", \"Ni concentration (weight%)\", \"Cr concentration (weight%)\", \"Mo concentration (weight%)\", \"V concentration (weight%)\", \"Cu concentration (weight%)\", \"Co concentration (weight%)\", \"W concentration (weight%)\", \"O concentration (ppm/weight)\", \"Ti concentration (ppm/weight)\", \"N concentration (ppm/weight)\", \"Al concentration (ppm/weight)\", \"B concentration (ppm/weight)\", \"Nb concentration (ppm/weight)\", \"Sn concentration (ppm/weight)\", \"As concentration (ppm/weight)\", \"Sb concentration (ppm/weight)\", \"Current (A)\", \"Voltage (V)\", \"AC or DC\", \"Electrode positive or negative\", \"Heat input (kJ/mm)\", \"Interpass temperature (deg C)\", \"Type of weld\", \"Post weld heat treatment temperature (deg C)\", \"Post weld heat treatment time (hours)\", \"Yield strength (MPa)\", \"Ultimate tensile strength (MPa)\", \"Elongation (%)\", \"Reduction of Area (%)\", \"Charpy temperature (deg C)\", \"Charpy impact toughness (J)\", \"Hardness (kg/mm2)\", \"50 FATT\", \"Primary ferrite in microstructure (%)\", \"Ferrite with second phase (%)\", \"Acicular ferrite (%)\", \"Martensite(%)\", \"Ferrite with carbide aggreagate (%)\", \"Weld ID\"]\n",
    "data = data.replace(\"<\",\"\",regex=True)\n",
    "data['N concentration (ppm/weight)'] = data['N concentration (ppm/weight)'].str.split(\"tot\").str[0]\n",
    "data['Hardness (kg/mm2)'] = data['Hardness (kg/mm2)'].str.split(\"(\").str[0]\n",
    "data['Hardness (kg/mm2)'] = data['Hardness (kg/mm2)'].str.split(\"H\").str[0]\n",
    "data['Interpass temperature (deg C)'] = data['Interpass temperature (deg C)'].replace('150-200','175')\n",
    "for i, column in enumerate(data.columns):\n",
    "    if i not in [23,24,27,43]:\n",
    "        data[column] = data[column].astype(float)\n",
    "\n",
    "data.columns = data.columns.map(str)\n",
    "data = data[col_test]\n",
    "means = data.mean()\n",
    "stds = data.std()"
   ]
  },
  {
   "cell_type": "markdown",
   "metadata": {},
   "source": [
    "Since I'm not studying mechanical engineering I ask ChatGPT for general threshold for each test. It gives me values for \"normal/soft\" steel"
   ]
  },
  {
   "cell_type": "code",
   "execution_count": 40,
   "metadata": {},
   "outputs": [],
   "source": [
    "#Dictionnary init to have both of the real thresholds and normalized thresholds\n",
    "Seuils = {\n",
    "    'Yield strength (MPa)' : {350:[]},\n",
    "    'Ultimate tensile strength (MPa)' : {500:[]},\n",
    "    'Elongation (%)': {20:[]},\n",
    "    'Reduction of Area (%)':{20:[]},\n",
    "    'Charpy impact toughness (J)':{50:[]}\n",
    "}\n",
    "\n",
    "#Normalization\n",
    "for c in col_test:\n",
    "    val = list(Seuils[c].keys())[0]\n",
    "    Seuils[c][val] = (val - means[c]) / stds[c]"
   ]
  },
  {
   "cell_type": "markdown",
   "metadata": {},
   "source": [
    "### Boolean columns to know if a real/generated test is successful or not + how many real/generated test are successful or not"
   ]
  },
  {
   "cell_type": "code",
   "execution_count": 41,
   "metadata": {},
   "outputs": [],
   "source": [
    "#Real tests successful :\n",
    "dfcible['vt'] = 0\n",
    "for c in col_test:\n",
    "    t = c+'_test'\n",
    "    tr = c+'_vrai_reussi'\n",
    "    seuil = seuil = list(Seuils[c].keys())[0]\n",
    "    #Successfull = is a real test and >= threshold\n",
    "    dfcible[tr] = np.where( dfcible[t]==0,0,\n",
    "                           np.where( dfcible[c]>= Seuils[c][seuil] , 1, 0) )\n",
    "    dfcible['vt'] += dfcible[tr]\n",
    "\n",
    "#Generated test successful :\n",
    "dfcible['ft'] = 0\n",
    "for c in col_test:\n",
    "    t = c+'_test'\n",
    "    tr = c+'_faux_reussi'\n",
    "    seuil = seuil = list(Seuils[c].keys())[0]\n",
    "    #Successfull = is generated and >= threshold\n",
    "    dfcible[tr] = np.where( dfcible[t]==1,0,\n",
    "                           np.where( dfcible[c]>= Seuils[c][seuil] , 1, 0) )    \n",
    "    dfcible['ft'] += dfcible[tr]"
   ]
  },
  {
   "cell_type": "markdown",
   "metadata": {},
   "source": [
    "## Binary target definition :  \n",
    "### An observation is a \"great welding\" (=1) : \n",
    "### Condition 1 = All the real tests must be successful\n",
    "### Condition 2 = Half of the generated test are successful"
   ]
  },
  {
   "cell_type": "code",
   "execution_count": 42,
   "metadata": {},
   "outputs": [
    {
     "data": {
      "text/plain": [
       "y\n",
       "1    1054\n",
       "0     409\n",
       "Name: count, dtype: int64"
      ]
     },
     "execution_count": 42,
     "metadata": {},
     "output_type": "execute_result"
    }
   ],
   "source": [
    "dfcible = dfcible[['nb','ft','vt']]\n",
    "dfcible['y'] = np.where( dfcible['vt']!=dfcible['nb'],0,\n",
    "                        np.where( dfcible['ft']>= (len(col_test)-dfcible['nb'])/2,1,0 ) )\n",
    "dfcible['y'].value_counts()"
   ]
  },
  {
   "cell_type": "markdown",
   "metadata": {},
   "source": [
    "It seems normal to have the double of volume for the great welding. Moreover, the volumes are not so unbalanced so we can use \"normal\" models and not outliers detection model.  \n",
    "### CSV preparation  \n",
    "For the modelization, we only need the features and the target (not the test columns and those depending on them)"
   ]
  },
  {
   "cell_type": "code",
   "execution_count": 43,
   "metadata": {},
   "outputs": [],
   "source": [
    "dfcible = dfcible.reset_index()\n",
    "dff = df[features].reset_index()\n",
    "dff = dff.merge(dfcible[['index','y']],on='index',how='left')\n",
    "dff = dff.drop(columns='index',axis=1)\n"
   ]
  },
  {
   "cell_type": "code",
   "execution_count": 44,
   "metadata": {},
   "outputs": [
    {
     "data": {
      "text/html": [
       "<div>\n",
       "<style scoped>\n",
       "    .dataframe tbody tr th:only-of-type {\n",
       "        vertical-align: middle;\n",
       "    }\n",
       "\n",
       "    .dataframe tbody tr th {\n",
       "        vertical-align: top;\n",
       "    }\n",
       "\n",
       "    .dataframe thead th {\n",
       "        text-align: right;\n",
       "    }\n",
       "</style>\n",
       "<table border=\"1\" class=\"dataframe\">\n",
       "  <thead>\n",
       "    <tr style=\"text-align: right;\">\n",
       "      <th></th>\n",
       "      <th>C concentration (weight%)</th>\n",
       "      <th>Si concentration (weight%)</th>\n",
       "      <th>Mn concentration (weight%)</th>\n",
       "      <th>S concentration (weight%)</th>\n",
       "      <th>P concentration (weight%)</th>\n",
       "      <th>V concentration (weight%)</th>\n",
       "      <th>O concentration (ppm/weight)</th>\n",
       "      <th>Ti concentration (ppm/weight)</th>\n",
       "      <th>N concentration (ppm/weight)</th>\n",
       "      <th>Al concentration (ppm/weight)</th>\n",
       "      <th>...</th>\n",
       "      <th>Type of weld_GMAA</th>\n",
       "      <th>Type of weld_GTAA</th>\n",
       "      <th>Type of weld_MMA</th>\n",
       "      <th>Type of weld_NGGMA</th>\n",
       "      <th>Type of weld_NGSAW</th>\n",
       "      <th>Type of weld_SA</th>\n",
       "      <th>Type of weld_SAA</th>\n",
       "      <th>Type of weld_ShMA</th>\n",
       "      <th>Type of weld_TSA</th>\n",
       "      <th>y</th>\n",
       "    </tr>\n",
       "  </thead>\n",
       "  <tbody>\n",
       "    <tr>\n",
       "      <th>0</th>\n",
       "      <td>-1.794624</td>\n",
       "      <td>-0.241903</td>\n",
       "      <td>-1.474090</td>\n",
       "      <td>-0.150353</td>\n",
       "      <td>-0.062002</td>\n",
       "      <td>1.542981e-17</td>\n",
       "      <td>-1.143271e-16</td>\n",
       "      <td>0.0</td>\n",
       "      <td>0.0</td>\n",
       "      <td>8.694071e-17</td>\n",
       "      <td>...</td>\n",
       "      <td>False</td>\n",
       "      <td>False</td>\n",
       "      <td>True</td>\n",
       "      <td>False</td>\n",
       "      <td>False</td>\n",
       "      <td>False</td>\n",
       "      <td>False</td>\n",
       "      <td>False</td>\n",
       "      <td>False</td>\n",
       "      <td>0</td>\n",
       "    </tr>\n",
       "    <tr>\n",
       "      <th>1</th>\n",
       "      <td>-1.794624</td>\n",
       "      <td>-0.241903</td>\n",
       "      <td>-1.474090</td>\n",
       "      <td>-0.150353</td>\n",
       "      <td>-0.062002</td>\n",
       "      <td>1.542981e-17</td>\n",
       "      <td>-1.143271e-16</td>\n",
       "      <td>0.0</td>\n",
       "      <td>0.0</td>\n",
       "      <td>8.694071e-17</td>\n",
       "      <td>...</td>\n",
       "      <td>False</td>\n",
       "      <td>False</td>\n",
       "      <td>True</td>\n",
       "      <td>False</td>\n",
       "      <td>False</td>\n",
       "      <td>False</td>\n",
       "      <td>False</td>\n",
       "      <td>False</td>\n",
       "      <td>False</td>\n",
       "      <td>0</td>\n",
       "    </tr>\n",
       "    <tr>\n",
       "      <th>2</th>\n",
       "      <td>-1.794624</td>\n",
       "      <td>-0.157085</td>\n",
       "      <td>-0.467487</td>\n",
       "      <td>-0.234530</td>\n",
       "      <td>0.034196</td>\n",
       "      <td>1.542981e-17</td>\n",
       "      <td>-1.143271e-16</td>\n",
       "      <td>0.0</td>\n",
       "      <td>0.0</td>\n",
       "      <td>8.694071e-17</td>\n",
       "      <td>...</td>\n",
       "      <td>False</td>\n",
       "      <td>False</td>\n",
       "      <td>True</td>\n",
       "      <td>False</td>\n",
       "      <td>False</td>\n",
       "      <td>False</td>\n",
       "      <td>False</td>\n",
       "      <td>False</td>\n",
       "      <td>False</td>\n",
       "      <td>0</td>\n",
       "    </tr>\n",
       "    <tr>\n",
       "      <th>3</th>\n",
       "      <td>-1.794624</td>\n",
       "      <td>-0.157085</td>\n",
       "      <td>-0.467487</td>\n",
       "      <td>-0.234530</td>\n",
       "      <td>0.034196</td>\n",
       "      <td>1.542981e-17</td>\n",
       "      <td>-1.143271e-16</td>\n",
       "      <td>0.0</td>\n",
       "      <td>0.0</td>\n",
       "      <td>8.694071e-17</td>\n",
       "      <td>...</td>\n",
       "      <td>False</td>\n",
       "      <td>False</td>\n",
       "      <td>True</td>\n",
       "      <td>False</td>\n",
       "      <td>False</td>\n",
       "      <td>False</td>\n",
       "      <td>False</td>\n",
       "      <td>False</td>\n",
       "      <td>False</td>\n",
       "      <td>0</td>\n",
       "    </tr>\n",
       "    <tr>\n",
       "      <th>4</th>\n",
       "      <td>-1.474696</td>\n",
       "      <td>0.182188</td>\n",
       "      <td>0.592095</td>\n",
       "      <td>-0.234530</td>\n",
       "      <td>0.034196</td>\n",
       "      <td>1.542981e-17</td>\n",
       "      <td>-1.143271e-16</td>\n",
       "      <td>0.0</td>\n",
       "      <td>0.0</td>\n",
       "      <td>8.694071e-17</td>\n",
       "      <td>...</td>\n",
       "      <td>False</td>\n",
       "      <td>False</td>\n",
       "      <td>True</td>\n",
       "      <td>False</td>\n",
       "      <td>False</td>\n",
       "      <td>False</td>\n",
       "      <td>False</td>\n",
       "      <td>False</td>\n",
       "      <td>False</td>\n",
       "      <td>1</td>\n",
       "    </tr>\n",
       "  </tbody>\n",
       "</table>\n",
       "<p>5 rows × 28 columns</p>\n",
       "</div>"
      ],
      "text/plain": [
       "   C concentration (weight%)  Si concentration (weight%)  \\\n",
       "0                  -1.794624                   -0.241903   \n",
       "1                  -1.794624                   -0.241903   \n",
       "2                  -1.794624                   -0.157085   \n",
       "3                  -1.794624                   -0.157085   \n",
       "4                  -1.474696                    0.182188   \n",
       "\n",
       "   Mn concentration (weight%)  S concentration (weight%)  \\\n",
       "0                   -1.474090                  -0.150353   \n",
       "1                   -1.474090                  -0.150353   \n",
       "2                   -0.467487                  -0.234530   \n",
       "3                   -0.467487                  -0.234530   \n",
       "4                    0.592095                  -0.234530   \n",
       "\n",
       "   P concentration (weight%)  V concentration (weight%)  \\\n",
       "0                  -0.062002               1.542981e-17   \n",
       "1                  -0.062002               1.542981e-17   \n",
       "2                   0.034196               1.542981e-17   \n",
       "3                   0.034196               1.542981e-17   \n",
       "4                   0.034196               1.542981e-17   \n",
       "\n",
       "   O concentration (ppm/weight)  Ti concentration (ppm/weight)  \\\n",
       "0                 -1.143271e-16                            0.0   \n",
       "1                 -1.143271e-16                            0.0   \n",
       "2                 -1.143271e-16                            0.0   \n",
       "3                 -1.143271e-16                            0.0   \n",
       "4                 -1.143271e-16                            0.0   \n",
       "\n",
       "   N concentration (ppm/weight)  Al concentration (ppm/weight)  ...  \\\n",
       "0                           0.0                   8.694071e-17  ...   \n",
       "1                           0.0                   8.694071e-17  ...   \n",
       "2                           0.0                   8.694071e-17  ...   \n",
       "3                           0.0                   8.694071e-17  ...   \n",
       "4                           0.0                   8.694071e-17  ...   \n",
       "\n",
       "   Type of weld_GMAA  Type of weld_GTAA  Type of weld_MMA  Type of weld_NGGMA  \\\n",
       "0              False              False              True               False   \n",
       "1              False              False              True               False   \n",
       "2              False              False              True               False   \n",
       "3              False              False              True               False   \n",
       "4              False              False              True               False   \n",
       "\n",
       "   Type of weld_NGSAW  Type of weld_SA  Type of weld_SAA  Type of weld_ShMA  \\\n",
       "0               False            False             False              False   \n",
       "1               False            False             False              False   \n",
       "2               False            False             False              False   \n",
       "3               False            False             False              False   \n",
       "4               False            False             False              False   \n",
       "\n",
       "   Type of weld_TSA  y  \n",
       "0             False  0  \n",
       "1             False  0  \n",
       "2             False  0  \n",
       "3             False  0  \n",
       "4             False  1  \n",
       "\n",
       "[5 rows x 28 columns]"
      ]
     },
     "execution_count": 44,
     "metadata": {},
     "output_type": "execute_result"
    }
   ],
   "source": [
    "dff.head()"
   ]
  },
  {
   "cell_type": "code",
   "execution_count": 20,
   "metadata": {},
   "outputs": [],
   "source": [
    "dff.to_csv('../../CD1_target_created.csv',index=False)"
   ]
  }
 ],
 "metadata": {
  "kernelspec": {
   "display_name": "Python 3",
   "language": "python",
   "name": "python3"
  },
  "language_info": {
   "codemirror_mode": {
    "name": "ipython",
    "version": 3
   },
   "file_extension": ".py",
   "mimetype": "text/x-python",
   "name": "python",
   "nbconvert_exporter": "python",
   "pygments_lexer": "ipython3",
   "version": "3.12.4"
  }
 },
 "nbformat": 4,
 "nbformat_minor": 2
}
