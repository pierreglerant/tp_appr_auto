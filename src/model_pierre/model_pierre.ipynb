{
 "cells": [
  {
   "cell_type": "markdown",
   "metadata": {},
   "source": [
    "# Pierre's modelization notebook"
   ]
  },
  {
   "cell_type": "markdown",
   "metadata": {},
   "source": [
    "## Import of modules"
   ]
  },
  {
   "cell_type": "code",
   "execution_count": 39,
   "metadata": {},
   "outputs": [],
   "source": [
    "import numpy as np\n",
    "import pandas as pd\n",
    "import matplotlib.pyplot as plt"
   ]
  },
  {
   "cell_type": "markdown",
   "metadata": {},
   "source": [
    "## Analysis of features and target"
   ]
  },
  {
   "cell_type": "markdown",
   "metadata": {},
   "source": [
    "#### Opening of the DataFrame"
   ]
  },
  {
   "cell_type": "code",
   "execution_count": 40,
   "metadata": {},
   "outputs": [
    {
     "data": {
      "text/html": [
       "<div>\n",
       "<style scoped>\n",
       "    .dataframe tbody tr th:only-of-type {\n",
       "        vertical-align: middle;\n",
       "    }\n",
       "\n",
       "    .dataframe tbody tr th {\n",
       "        vertical-align: top;\n",
       "    }\n",
       "\n",
       "    .dataframe thead th {\n",
       "        text-align: right;\n",
       "    }\n",
       "</style>\n",
       "<table border=\"1\" class=\"dataframe\">\n",
       "  <thead>\n",
       "    <tr style=\"text-align: right;\">\n",
       "      <th></th>\n",
       "      <th>C concentration (weight%)</th>\n",
       "      <th>Si concentration (weight%)</th>\n",
       "      <th>Mn concentration (weight%)</th>\n",
       "      <th>S concentration (weight%)</th>\n",
       "      <th>P concentration (weight%)</th>\n",
       "      <th>V concentration (weight%)</th>\n",
       "      <th>O concentration (ppm/weight)</th>\n",
       "      <th>Ti concentration (ppm/weight)</th>\n",
       "      <th>N concentration (ppm/weight)</th>\n",
       "      <th>Al concentration (ppm/weight)</th>\n",
       "      <th>...</th>\n",
       "      <th>electrode positive</th>\n",
       "      <th>Type of weld_GMAA</th>\n",
       "      <th>Type of weld_GTAA</th>\n",
       "      <th>Type of weld_MMA</th>\n",
       "      <th>Type of weld_NGGMA</th>\n",
       "      <th>Type of weld_NGSAW</th>\n",
       "      <th>Type of weld_SA</th>\n",
       "      <th>Type of weld_SAA</th>\n",
       "      <th>Type of weld_ShMA</th>\n",
       "      <th>Type of weld_TSA</th>\n",
       "    </tr>\n",
       "  </thead>\n",
       "  <tbody>\n",
       "    <tr>\n",
       "      <th>0</th>\n",
       "      <td>-1.794624</td>\n",
       "      <td>-0.241903</td>\n",
       "      <td>-1.474090</td>\n",
       "      <td>-0.150353</td>\n",
       "      <td>-0.062002</td>\n",
       "      <td>1.542981e-17</td>\n",
       "      <td>-1.143271e-16</td>\n",
       "      <td>0.0</td>\n",
       "      <td>0.0</td>\n",
       "      <td>8.694071e-17</td>\n",
       "      <td>...</td>\n",
       "      <td>True</td>\n",
       "      <td>False</td>\n",
       "      <td>False</td>\n",
       "      <td>True</td>\n",
       "      <td>False</td>\n",
       "      <td>False</td>\n",
       "      <td>False</td>\n",
       "      <td>False</td>\n",
       "      <td>False</td>\n",
       "      <td>False</td>\n",
       "    </tr>\n",
       "    <tr>\n",
       "      <th>1</th>\n",
       "      <td>-1.794624</td>\n",
       "      <td>-0.241903</td>\n",
       "      <td>-1.474090</td>\n",
       "      <td>-0.150353</td>\n",
       "      <td>-0.062002</td>\n",
       "      <td>1.542981e-17</td>\n",
       "      <td>-1.143271e-16</td>\n",
       "      <td>0.0</td>\n",
       "      <td>0.0</td>\n",
       "      <td>8.694071e-17</td>\n",
       "      <td>...</td>\n",
       "      <td>True</td>\n",
       "      <td>False</td>\n",
       "      <td>False</td>\n",
       "      <td>True</td>\n",
       "      <td>False</td>\n",
       "      <td>False</td>\n",
       "      <td>False</td>\n",
       "      <td>False</td>\n",
       "      <td>False</td>\n",
       "      <td>False</td>\n",
       "    </tr>\n",
       "    <tr>\n",
       "      <th>2</th>\n",
       "      <td>-1.794624</td>\n",
       "      <td>-0.157085</td>\n",
       "      <td>-0.467487</td>\n",
       "      <td>-0.234530</td>\n",
       "      <td>0.034196</td>\n",
       "      <td>1.542981e-17</td>\n",
       "      <td>-1.143271e-16</td>\n",
       "      <td>0.0</td>\n",
       "      <td>0.0</td>\n",
       "      <td>8.694071e-17</td>\n",
       "      <td>...</td>\n",
       "      <td>True</td>\n",
       "      <td>False</td>\n",
       "      <td>False</td>\n",
       "      <td>True</td>\n",
       "      <td>False</td>\n",
       "      <td>False</td>\n",
       "      <td>False</td>\n",
       "      <td>False</td>\n",
       "      <td>False</td>\n",
       "      <td>False</td>\n",
       "    </tr>\n",
       "    <tr>\n",
       "      <th>3</th>\n",
       "      <td>-1.794624</td>\n",
       "      <td>-0.157085</td>\n",
       "      <td>-0.467487</td>\n",
       "      <td>-0.234530</td>\n",
       "      <td>0.034196</td>\n",
       "      <td>1.542981e-17</td>\n",
       "      <td>-1.143271e-16</td>\n",
       "      <td>0.0</td>\n",
       "      <td>0.0</td>\n",
       "      <td>8.694071e-17</td>\n",
       "      <td>...</td>\n",
       "      <td>True</td>\n",
       "      <td>False</td>\n",
       "      <td>False</td>\n",
       "      <td>True</td>\n",
       "      <td>False</td>\n",
       "      <td>False</td>\n",
       "      <td>False</td>\n",
       "      <td>False</td>\n",
       "      <td>False</td>\n",
       "      <td>False</td>\n",
       "    </tr>\n",
       "    <tr>\n",
       "      <th>4</th>\n",
       "      <td>-1.474696</td>\n",
       "      <td>0.182188</td>\n",
       "      <td>0.592095</td>\n",
       "      <td>-0.234530</td>\n",
       "      <td>0.034196</td>\n",
       "      <td>1.542981e-17</td>\n",
       "      <td>-1.143271e-16</td>\n",
       "      <td>0.0</td>\n",
       "      <td>0.0</td>\n",
       "      <td>8.694071e-17</td>\n",
       "      <td>...</td>\n",
       "      <td>True</td>\n",
       "      <td>False</td>\n",
       "      <td>False</td>\n",
       "      <td>True</td>\n",
       "      <td>False</td>\n",
       "      <td>False</td>\n",
       "      <td>False</td>\n",
       "      <td>False</td>\n",
       "      <td>False</td>\n",
       "      <td>False</td>\n",
       "    </tr>\n",
       "  </tbody>\n",
       "</table>\n",
       "<p>5 rows × 33 columns</p>\n",
       "</div>"
      ],
      "text/plain": [
       "   C concentration (weight%)  Si concentration (weight%)  \\\n",
       "0                  -1.794624                   -0.241903   \n",
       "1                  -1.794624                   -0.241903   \n",
       "2                  -1.794624                   -0.157085   \n",
       "3                  -1.794624                   -0.157085   \n",
       "4                  -1.474696                    0.182188   \n",
       "\n",
       "   Mn concentration (weight%)  S concentration (weight%)  \\\n",
       "0                   -1.474090                  -0.150353   \n",
       "1                   -1.474090                  -0.150353   \n",
       "2                   -0.467487                  -0.234530   \n",
       "3                   -0.467487                  -0.234530   \n",
       "4                    0.592095                  -0.234530   \n",
       "\n",
       "   P concentration (weight%)  V concentration (weight%)  \\\n",
       "0                  -0.062002               1.542981e-17   \n",
       "1                  -0.062002               1.542981e-17   \n",
       "2                   0.034196               1.542981e-17   \n",
       "3                   0.034196               1.542981e-17   \n",
       "4                   0.034196               1.542981e-17   \n",
       "\n",
       "   O concentration (ppm/weight)  Ti concentration (ppm/weight)  \\\n",
       "0                 -1.143271e-16                            0.0   \n",
       "1                 -1.143271e-16                            0.0   \n",
       "2                 -1.143271e-16                            0.0   \n",
       "3                 -1.143271e-16                            0.0   \n",
       "4                 -1.143271e-16                            0.0   \n",
       "\n",
       "   N concentration (ppm/weight)  Al concentration (ppm/weight)  ...  \\\n",
       "0                           0.0                   8.694071e-17  ...   \n",
       "1                           0.0                   8.694071e-17  ...   \n",
       "2                           0.0                   8.694071e-17  ...   \n",
       "3                           0.0                   8.694071e-17  ...   \n",
       "4                           0.0                   8.694071e-17  ...   \n",
       "\n",
       "   electrode positive  Type of weld_GMAA  Type of weld_GTAA  Type of weld_MMA  \\\n",
       "0                True              False              False              True   \n",
       "1                True              False              False              True   \n",
       "2                True              False              False              True   \n",
       "3                True              False              False              True   \n",
       "4                True              False              False              True   \n",
       "\n",
       "   Type of weld_NGGMA  Type of weld_NGSAW  Type of weld_SA  Type of weld_SAA  \\\n",
       "0               False               False            False             False   \n",
       "1               False               False            False             False   \n",
       "2               False               False            False             False   \n",
       "3               False               False            False             False   \n",
       "4               False               False            False             False   \n",
       "\n",
       "   Type of weld_ShMA  Type of weld_TSA  \n",
       "0              False             False  \n",
       "1              False             False  \n",
       "2              False             False  \n",
       "3              False             False  \n",
       "4              False             False  \n",
       "\n",
       "[5 rows x 33 columns]"
      ]
     },
     "execution_count": 40,
     "metadata": {},
     "output_type": "execute_result"
    }
   ],
   "source": [
    "df = pd.read_csv('../../data/preprocessed_data.csv')\n",
    "df.head()"
   ]
  },
  {
   "cell_type": "markdown",
   "metadata": {},
   "source": [
    "#### Deletion of the useless columns for the prediction and determination of the best target columns\n",
    "\n",
    "We have various steel, yet the charpy temperature seems to have huge differences depending of the type."
   ]
  },
  {
   "cell_type": "code",
   "execution_count": 41,
   "metadata": {},
   "outputs": [],
   "source": [
    "# Drop the columns that are not needed\n",
    "df = df.drop('Charpy temperature (deg C)',axis=1)\n",
    "\n",
    "# Get the name of the target columns \n",
    "testNames = ['Yield strength (MPa)','Ultimate tensile strength (MPa)', 'Elongation (%)',\n",
    "            'Reduction of Area (%)','Charpy impact toughness (J)']\n",
    "\n",
    "# Get the name of the feature columns\n",
    "featureNames = df.columns.difference(testNames)"
   ]
  },
  {
   "cell_type": "markdown",
   "metadata": {},
   "source": [
    "### Information printing\n",
    "This part is based on Clarisse's work.\n",
    "\n",
    "This part will be usefull to decide how the target will be created with the columns referring to the welding test quality (Can be called \"test columns\").\n",
    "\n",
    "We start with a Boolean columns creation : see for each row if the test is done."
   ]
  },
  {
   "cell_type": "code",
   "execution_count": 42,
   "metadata": {},
   "outputs": [],
   "source": [
    "# Initialize the dataframe that will contain the new columns\n",
    "dfAugmented = df.copy()\n",
    "\n",
    "# Initialize the list which will contain the name of the new columns\n",
    "newColNames=['nb']\n",
    "\n",
    "# Create a column that will tell how many test each observation has\n",
    "# Initialize all the values to 0\n",
    "dfAugmented['nb'] = 0\n",
    "\n",
    "# Create a column, composed of boolean, with the suffix \"_test\" for each test column\n",
    "# to see if the test is done or not (blank cells or not) and a column that will tell\n",
    "# how many test each observation has\n",
    "for c in testNames:\n",
    "    n=c+'_test'\n",
    "    dfAugmented[n] = np.where(dfAugmented[c].isna(),0,1)\n",
    "    newColNames.append(n)\n",
    "    dfAugmented['nb'] = dfAugmented['nb'] + dfAugmented[n]"
   ]
  },
  {
   "cell_type": "code",
   "execution_count": 43,
   "metadata": {},
   "outputs": [
    {
     "name": "stdout",
     "output_type": "stream",
     "text": [
      "Yield strength (MPa)_test \n",
      "Test not done 52 %\n",
      "Test done 47 %\n",
      "\n",
      "Ultimate tensile strength (MPa)_test \n",
      "Test not done 50 %\n",
      "Test done 49 %\n",
      "\n",
      "Elongation (%)_test \n",
      "Test not done 53 %\n",
      "Test done 46 %\n",
      "\n",
      "Reduction of Area (%)_test \n",
      "Test not done 52 %\n",
      "Test done 47 %\n",
      "\n",
      "Charpy impact toughness (J)_test \n",
      "Test not done 50 %\n",
      "Test done 49 %\n",
      "\n"
     ]
    },
    {
     "data": {
      "text/plain": [
       "nb\n",
       "1    650\n",
       "4    510\n",
       "5    134\n",
       "0     82\n",
       "3     52\n",
       "2     35\n",
       "Name: count, dtype: int64"
      ]
     },
     "execution_count": 43,
     "metadata": {},
     "output_type": "execute_result"
    }
   ],
   "source": [
    "# Display of test completion rate\n",
    "for k in newColNames[1:]:\n",
    "    dfInter = dfAugmented[k].value_counts().reset_index()\n",
    "    dfInter['count'] = (dfInter['count']*100)/dfInter['count'].sum()\n",
    "    print(k,'\\nTest not done',int(dfInter['count'].to_list()[0]), '%\\nTest done',int(dfInter['count'].to_list()[1]),'%\\n')\n",
    "\n",
    "# Display the number of tests performed on each observation\n",
    "dfAugmented['nb'].value_counts()\n"
   ]
  },
  {
   "cell_type": "markdown",
   "metadata": {},
   "source": [
    "Conclusion : \n",
    "\n",
    "Nearly half of the instances have only one test. All tests are done approximately 50% of the time. There are only 82 instances out of 1652 which do not have any tests."
   ]
  },
  {
   "cell_type": "markdown",
   "metadata": {},
   "source": [
    "### Preparation of the columns that are use to create the target \n",
    "Due to the fact that there is less than 5% of the dataset which has no test done. I choose to drop these instances."
   ]
  },
  {
   "cell_type": "code",
   "execution_count": 46,
   "metadata": {},
   "outputs": [
    {
     "name": "stdout",
     "output_type": "stream",
     "text": [
      "Number of dropped instances : 82\n"
     ]
    }
   ],
   "source": [
    "# Drop the values where no test was done\n",
    "dfAugmented = dfAugmented.drop(dfAugmented[dfAugmented['nb'] == 0].index)\n",
    "\n",
    "# Verify if only 82 instances have been dropped\n",
    "print(f\"Number of dropped instances : {df.shape[0]-dfAugmented.shape[0]}\")"
   ]
  }
 ],
 "metadata": {
  "kernelspec": {
   "display_name": "Python 3",
   "language": "python",
   "name": "python3"
  },
  "language_info": {
   "codemirror_mode": {
    "name": "ipython",
    "version": 3
   },
   "file_extension": ".py",
   "mimetype": "text/x-python",
   "name": "python",
   "nbconvert_exporter": "python",
   "pygments_lexer": "ipython3",
   "version": "3.12.4"
  }
 },
 "nbformat": 4,
 "nbformat_minor": 2
}
