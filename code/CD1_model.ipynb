{
 "cells": [
  {
   "cell_type": "markdown",
   "metadata": {},
   "source": [
    "# Essai modélisation\n",
    "### Imports"
   ]
  },
  {
   "cell_type": "code",
   "execution_count": 110,
   "metadata": {},
   "outputs": [],
   "source": [
    "import pandas as pd\n",
    "import numpy as np\n",
    "from sklearn.impute import KNNImputer\n",
    "from sklearn.decomposition import PCA\n",
    "import matplotlib.pyplot as plt\n",
    "\n",
    "from sklearn.model_selection import train_test_split\n",
    "from sklearn.ensemble import RandomForestClassifier\n",
    "from sklearn.linear_model import LogisticRegression\n",
    "from sklearn.svm import SVC\n",
    "from sklearn.metrics import classification_report, accuracy_score\n",
    "\n",
    "import warnings\n",
    "warnings.filterwarnings(\"ignore\")"
   ]
  },
  {
   "cell_type": "code",
   "execution_count": 24,
   "metadata": {},
   "outputs": [],
   "source": [
    "df = pd.read_csv(r'C:\\Users\\ccdeb\\Documents\\CS\\3A\\APPRAUTO\\TP_soudure_new\\tp_appr_auto\\data\\preprocessed_data.csv')"
   ]
  },
  {
   "cell_type": "markdown",
   "metadata": {},
   "source": [
    "## Découverte"
   ]
  },
  {
   "cell_type": "code",
   "execution_count": 25,
   "metadata": {},
   "outputs": [
    {
     "data": {
      "text/plain": [
       "(1463, 33)"
      ]
     },
     "execution_count": 25,
     "metadata": {},
     "output_type": "execute_result"
    }
   ],
   "source": [
    "df.shape"
   ]
  },
  {
   "cell_type": "code",
   "execution_count": 26,
   "metadata": {},
   "outputs": [
    {
     "name": "stdout",
     "output_type": "stream",
     "text": [
      "Yield strength (MPa)\n",
      "Ultimate tensile strength (MPa)\n",
      "Elongation (%)\n",
      "Reduction of Area (%)\n",
      "Charpy temperature (deg C)\n",
      "Charpy impact toughness (J)\n"
     ]
    }
   ],
   "source": [
    "#Les seules variables qui manquent encore sont des tests\n",
    "for k in df:\n",
    "    if df.dropna(subset=k).shape != df.shape:\n",
    "        print(k)"
   ]
  },
  {
   "cell_type": "code",
   "execution_count": 27,
   "metadata": {},
   "outputs": [
    {
     "data": {
      "text/plain": [
       "Index(['C concentration (weight%)', 'Si concentration (weight%)',\n",
       "       'Mn concentration (weight%)', 'S concentration (weight%)',\n",
       "       'P concentration (weight%)', 'V concentration (weight%)',\n",
       "       'O concentration (ppm/weight)', 'Ti concentration (ppm/weight)',\n",
       "       'N concentration (ppm/weight)', 'Al concentration (ppm/weight)',\n",
       "       'Current (A)', 'Voltage (V)', 'Heat input (kJ/mm)',\n",
       "       'Interpass temperature (deg C)',\n",
       "       'Post weld heat treatment temperature (deg C)',\n",
       "       'Post weld heat treatment time (hours)', 'Yield strength (MPa)',\n",
       "       'Ultimate tensile strength (MPa)', 'Elongation (%)',\n",
       "       'Reduction of Area (%)', 'Charpy temperature (deg C)',\n",
       "       'Charpy impact toughness (J)', 'AC', 'electrode positive',\n",
       "       'Type of weld_GMAA', 'Type of weld_GTAA', 'Type of weld_MMA',\n",
       "       'Type of weld_NGGMA', 'Type of weld_NGSAW', 'Type of weld_SA',\n",
       "       'Type of weld_SAA', 'Type of weld_ShMA', 'Type of weld_TSA'],\n",
       "      dtype='object')"
      ]
     },
     "execution_count": 27,
     "metadata": {},
     "output_type": "execute_result"
    }
   ],
   "source": [
    "df.columns"
   ]
  },
  {
   "cell_type": "markdown",
   "metadata": {},
   "source": [
    "## Stratégie cible\n",
    "On se rend compte qu'il n'y a pas de variable cible claire. Je propose donc d'établir une définition de la cible basée sur une combinaison des seuils sur les tests. Cela me permettra d'avoir une variable cible booléenne. \n",
    " \n",
    "Voici la liste des colonnes représentant les tests : "
   ]
  },
  {
   "cell_type": "code",
   "execution_count": 28,
   "metadata": {},
   "outputs": [],
   "source": [
    "col_test = ['Yield strength (MPa)','Ultimate tensile strength (MPa)', 'Elongation (%)',\n",
    "            'Reduction of Area (%)','Charpy impact toughness (J)']\n",
    "\n",
    "df = df.drop('Charpy temperature (deg C)',axis=1) #la température de charpy dépend trop du type d'acier "
   ]
  },
  {
   "cell_type": "markdown",
   "metadata": {},
   "source": [
    "Analyse des variables cibles"
   ]
  },
  {
   "cell_type": "code",
   "execution_count": 29,
   "metadata": {},
   "outputs": [
    {
     "data": {
      "text/plain": [
       "nb\n",
       "1    650\n",
       "4    510\n",
       "5    134\n",
       "0     82\n",
       "3     52\n",
       "2     35\n",
       "Name: count, dtype: int64"
      ]
     },
     "execution_count": 29,
     "metadata": {},
     "output_type": "execute_result"
    }
   ],
   "source": [
    "#On regarde le nombre de valeurs qui n'ont aucun test\n",
    "dfd = df.copy()\n",
    "Lt=[]\n",
    "dfd['nb'] = 0\n",
    "for c in col_test:\n",
    "    n=c+'_test'\n",
    "    dfd[n] = np.where(dfd[c].isna(),0,1)\n",
    "    Lt.append(n)\n",
    "    dfd['nb'] = dfd['nb'] + dfd[n]\n",
    "\n",
    "dfd['nb'].value_counts()\n"
   ]
  },
  {
   "cell_type": "markdown",
   "metadata": {},
   "source": [
    "Sur 1463 pièces, 82 n'ont aucuns tests. Vu la quantité, on peut sûrement les supprimer."
   ]
  },
  {
   "cell_type": "code",
   "execution_count": 30,
   "metadata": {},
   "outputs": [
    {
     "name": "stdout",
     "output_type": "stream",
     "text": [
      "(1463, 32) \n",
      "\n",
      "Yield strength (MPa) : 325\n",
      "Ultimate tensile strength (MPa) : 303\n",
      "Elongation (%) : 135\n",
      "Reduction of Area (%) : 122\n",
      "Charpy impact toughness (J) : 143\n"
     ]
    }
   ],
   "source": [
    "print(df.shape,'\\n')\n",
    "for k in col_test:\n",
    "    print(k,':',df[k].nunique())"
   ]
  },
  {
   "cell_type": "markdown",
   "metadata": {},
   "source": [
    "Sur plus de 1400 lignes, on se rend compte qu'il n'y a pas tant de valeurs différentes que ça. Il serait intéressant d'appliquer un algorithme des plus proches voisins afin de prédire les valeurs manquantes. En plus les variables sont prêtes pour un KNN vu qu'elles sont normalisées et cela permettra d'avoir le maximum d'informations  \n",
    "## Application KNN"
   ]
  },
  {
   "cell_type": "code",
   "execution_count": 31,
   "metadata": {},
   "outputs": [],
   "source": [
    "#Récupération des colonnes quanti\n",
    "quanti = df.select_dtypes(include=['Float64']).columns"
   ]
  },
  {
   "cell_type": "code",
   "execution_count": 50,
   "metadata": {},
   "outputs": [],
   "source": [
    "#Préparation du df qui va avoir les nouvelles colonnes de tests\n",
    "dfknn = df.copy()\n",
    "\n",
    "#préparation du df pour appliquer le knn et prédire les colonnes de test \n",
    "dfknn = df[quanti]\n",
    "\n",
    "#application du knn sur les données quanti pour prédire \n",
    "imputer = KNNImputer(n_neighbors=5)\n",
    "dfknn = imputer.fit_transform(dfknn)\n",
    "\n",
    "#mise en forme du tableau \n",
    "dfknn = pd.DataFrame(dfknn)\n",
    "dfknn.columns = quanti\n",
    "dfinter = df.drop(columns=quanti,axis=1).reset_index()\n",
    "dfknn = dfknn.reset_index()\n",
    "\n",
    "#merge du tableau pour avoir les données booléennes, quanti et les variables cibles\n",
    "dfknn = dfinter.merge(dfknn,on='index',how='left')\n"
   ]
  },
  {
   "cell_type": "markdown",
   "metadata": {},
   "source": [
    "Etant donné que les données des tests sont normalisées, je dois aussi normaliser les seuils  \n",
    "### Normalisation des seuils  \n",
    "#### Récupération moyenne/std"
   ]
  },
  {
   "cell_type": "code",
   "execution_count": 62,
   "metadata": {},
   "outputs": [],
   "source": [
    "#Récupération des mean/std\n",
    "data = pd.read_table(\"../data/welddb.data\",sep = \" \", header=None)\n",
    "data.replace('N', None, inplace=True)\n",
    "data.columns = [\"C concentration (weight%)\",\"Si concentration (weight%)\", \"Mn concentration (weight%)\",\"S concentration (weight%)\", \"P concentration (weight%)\", \"Ni concentration (weight%)\", \"Cr concentration (weight%)\", \"Mo concentration (weight%)\", \"V concentration (weight%)\", \"Cu concentration (weight%)\", \"Co concentration (weight%)\", \"W concentration (weight%)\", \"O concentration (ppm/weight)\", \"Ti concentration (ppm/weight)\", \"N concentration (ppm/weight)\", \"Al concentration (ppm/weight)\", \"B concentration (ppm/weight)\", \"Nb concentration (ppm/weight)\", \"Sn concentration (ppm/weight)\", \"As concentration (ppm/weight)\", \"Sb concentration (ppm/weight)\", \"Current (A)\", \"Voltage (V)\", \"AC or DC\", \"Electrode positive or negative\", \"Heat input (kJ/mm)\", \"Interpass temperature (deg C)\", \"Type of weld\", \"Post weld heat treatment temperature (deg C)\", \"Post weld heat treatment time (hours)\", \"Yield strength (MPa)\", \"Ultimate tensile strength (MPa)\", \"Elongation (%)\", \"Reduction of Area (%)\", \"Charpy temperature (deg C)\", \"Charpy impact toughness (J)\", \"Hardness (kg/mm2)\", \"50 FATT\", \"Primary ferrite in microstructure (%)\", \"Ferrite with second phase (%)\", \"Acicular ferrite (%)\", \"Martensite(%)\", \"Ferrite with carbide aggreagate (%)\", \"Weld ID\"]\n",
    "data = data.replace(\"<\",\"\",regex=True)\n",
    "data['N concentration (ppm/weight)'] = data['N concentration (ppm/weight)'].str.split(\"tot\").str[0]\n",
    "data['Hardness (kg/mm2)'] = data['Hardness (kg/mm2)'].str.split(\"(\").str[0]\n",
    "data['Hardness (kg/mm2)'] = data['Hardness (kg/mm2)'].str.split(\"H\").str[0]\n",
    "data['Interpass temperature (deg C)'] = data['Interpass temperature (deg C)'].replace('150-200','175')\n",
    "for i, column in enumerate(data.columns):\n",
    "    if i not in [23,24,27,43]:\n",
    "        data[column] = data[column].astype(float)\n",
    "\n",
    "data.columns = data.columns.map(str)\n",
    "data = data[col_test]\n",
    "means = data.mean()\n",
    "stds = data.std()"
   ]
  },
  {
   "cell_type": "markdown",
   "metadata": {},
   "source": [
    "#### Définition des seuils  \n",
    "Vu que je ne me suis pas spécialisée dans l'ingénieurerie mécanique je me suis aidée de chatgpt pour les définir "
   ]
  },
  {
   "cell_type": "code",
   "execution_count": 63,
   "metadata": {},
   "outputs": [],
   "source": [
    "Seuils = {\n",
    "    'Yield strength (MPa)' : {350:[]},\n",
    "    'Ultimate tensile strength (MPa)' : {500:[]},\n",
    "    'Elongation (%)': {20:[]},\n",
    "    'Reduction of Area (%)':{20:[]},\n",
    "    'Charpy impact toughness (J)':{50:[]}\n",
    "}\n",
    "\n",
    "for c in col_test:\n",
    "    val = list(Seuils[c].keys())[0]\n",
    "    Seuils[c][val] = (val - means[c]) / stds[c]\n"
   ]
  },
  {
   "cell_type": "markdown",
   "metadata": {},
   "source": [
    "### Définition de \"bonne soudure\" : a réussi tous les test en étant au dessus de tous les seuils normalisés"
   ]
  },
  {
   "cell_type": "code",
   "execution_count": 81,
   "metadata": {},
   "outputs": [],
   "source": [
    "dftsh = dfknn.copy()\n",
    "Lt = []\n",
    "#Est-ce que la colonne de test est au dessus du seuil ?\n",
    "for k in col_test:\n",
    "    c = k+'_test'\n",
    "    seuil = list(Seuils[k].keys())[0]\n",
    "    dftsh[c]=np.where(dftsh[k]>Seuils[k][seuil],1,0)\n",
    "    Lt.append(c)\n",
    "\n",
    "#Calcul du nombre de test réussi pour chaque observation\n",
    "dftsh['nb_test_reussi'] = 0\n",
    "for k in Lt:\n",
    "    dftsh['nb_test_reussi'] += dftsh[k]\n",
    "\n",
    "#Création de la cible\n",
    "dftsh['y'] = np.where(dftsh['nb_test_reussi']==len(Lt),1,0)\n",
    "Lt.append('nb_test_reussi')\n",
    "dftsh = dftsh.drop(columns=Lt,axis=1)"
   ]
  },
  {
   "cell_type": "code",
   "execution_count": 82,
   "metadata": {},
   "outputs": [
    {
     "data": {
      "text/plain": [
       "y\n",
       "1    962\n",
       "0    501\n",
       "Name: count, dtype: int64"
      ]
     },
     "execution_count": 82,
     "metadata": {},
     "output_type": "execute_result"
    }
   ],
   "source": [
    "dftsh['y'].value_counts()"
   ]
  },
  {
   "cell_type": "markdown",
   "metadata": {},
   "source": [
    "Il n'y a pas d'énormes différences d'échelles sur le volume, on peut donc continuer  \n",
    "## Application ACP  \n",
    "#### Préparation"
   ]
  },
  {
   "cell_type": "code",
   "execution_count": 102,
   "metadata": {},
   "outputs": [],
   "source": [
    "bool = dftsh.select_dtypes(include=['bool'])\n",
    "Dmap = {True:1,False:0}\n",
    "dfacp = dftsh.copy()\n",
    "for c in bool:\n",
    "    dfacp[c] = dfacp[c].map(Dmap)\n",
    "dfacp = dfacp.drop(columns='index',axis=1) #Il ne faudrait pas appliquer l'acp sur l'index\n",
    "dfacpx = dfacp.drop(columns='y',axis=1) #Il ne faudrait pas appliquer l'acp sur la cible\n",
    "dfacpx = dfacpx.drop(columns=col_test,axis=1) #Il ne faudrait pas appliquer l'acp sur \"presque\" la cible"
   ]
  },
  {
   "cell_type": "markdown",
   "metadata": {},
   "source": [
    "#### Application"
   ]
  },
  {
   "cell_type": "code",
   "execution_count": 103,
   "metadata": {},
   "outputs": [
    {
     "name": "stdout",
     "output_type": "stream",
     "text": [
      "[2.08328441e+01 1.60608471e+01 1.18599796e+01 7.31955969e+00\n",
      " 7.06619375e+00 6.29734473e+00 5.31094890e+00 4.79866436e+00\n",
      " 4.06478563e+00 3.54929464e+00 3.11539768e+00 2.95601111e+00\n",
      " 2.36523158e+00 2.26858370e+00 7.94494713e-01 4.40160187e-01\n",
      " 3.00339558e-01 2.04634989e-01 1.21029957e-01 8.20295274e-02\n",
      " 5.60192608e-02 3.70493740e-02 2.99433438e-02 2.50493707e-02\n",
      " 1.74266762e-02 1.58651729e-02 1.02712628e-02]\n"
     ]
    }
   ],
   "source": [
    "acp = PCA()\n",
    "acp.fit(dfacpx)\n",
    "\n",
    "print(acp.explained_variance_ratio_ * 100)\n"
   ]
  },
  {
   "cell_type": "markdown",
   "metadata": {},
   "source": [
    "La lisre n'est pas très lisible pour la prise de décision. Je décide faire un graphique des variances cumulées pour mieux me faire une idée"
   ]
  },
  {
   "cell_type": "code",
   "execution_count": 106,
   "metadata": {},
   "outputs": [
    {
     "data": {
      "image/png": "[encoded data removed]",
      "text/plain": [
       "<Figure size 640x480 with 1 Axes>"
      ]
     },
     "metadata": {},
     "output_type": "display_data"
    }
   ],
   "source": [
    "# variance expliquée cumulée\n",
    "varcum = acp.explained_variance_ratio_.cumsum()\n",
    "\n",
    "# Graphique pour prise de décision \n",
    "plt.plot(range(1, len(varcum) + 1), varcum * 100, marker='x')\n",
    "plt.xlabel('Nombre de composantes')\n",
    "plt.ylabel('Variance en cumulé (%)')\n",
    "plt.title('Graphique de la variance cumulée expliquée selon le nombre de composantes principales')\n",
    "plt.grid(True)\n",
    "plt.show()"
   ]
  },
  {
   "cell_type": "markdown",
   "metadata": {},
   "source": [
    "On se rend compte qu'en divisant par deux le nombre de composante on retrouve 95% des informations. Ce qui est largement suffisant pour de la modélisation."
   ]
  },
  {
   "cell_type": "code",
   "execution_count": 109,
   "metadata": {},
   "outputs": [
    {
     "name": "stdout",
     "output_type": "stream",
     "text": [
      "Variance totale : 95.59710290563642 %\n"
     ]
    }
   ],
   "source": [
    "acp = PCA(n_components=13)\n",
    "X_acp = acp.fit_transform(dfacpx)\n",
    "\n",
    "var_tot = sum(acp.explained_variance_ratio_) * 100\n",
    "print(\"Variance totale :\",var_tot,'%')"
   ]
  },
  {
   "cell_type": "markdown",
   "metadata": {},
   "source": [
    "## Modélisation"
   ]
  },
  {
   "cell_type": "code",
   "execution_count": 111,
   "metadata": {},
   "outputs": [],
   "source": [
    "#Séparation"
   ]
  },
  {
   "cell_type": "code",
   "execution_count": null,
   "metadata": {},
   "outputs": [],
   "source": []
  }
 ],
 "metadata": {
  "kernelspec": {
   "display_name": "Python 3",
   "language": "python",
   "name": "python3"
  },
  "language_info": {
   "codemirror_mode": {
    "name": "ipython",
    "version": 3
   },
   "file_extension": ".py",
   "mimetype": "text/x-python",
   "name": "python",
   "nbconvert_exporter": "python",
   "pygments_lexer": "ipython3",
   "version": "3.11.1"
  }
 },
 "nbformat": 4,
 "nbformat_minor": 2
}
